{
 "cells": [
  {
   "cell_type": "code",
   "execution_count": 2,
   "metadata": {},
   "outputs": [
    {
     "name": "stdout",
     "output_type": "stream",
     "text": [
      "11983841\n"
     ]
    }
   ],
   "source": [
    "import math\n",
    "\n",
    "def solve_rsa(e, n):\n",
    "  p = 0\n",
    "  q = 0\n",
    "  l = 0\n",
    "  for i in range(n):\n",
    "    if (n/(i+2)) % 1 == 0 and math.gcd(int(n/(i+2)), i+2) == 1:\n",
    "      p = i + 2\n",
    "      q = int(n / (i + 2))\n",
    "      break\n",
    "  l = (p - 1) * (q - 1)\n",
    "  if math.gcd(l,e) != 1:\n",
    "    print('failed')\n",
    "  for i in range(l):\n",
    "    if (e * i) % l == 1:\n",
    "      print(i)\n",
    "  \n",
    "#test\n",
    "n = 42474013\n",
    "e = 65537 \n",
    "solve_rsa(e,n)"
   ]
  }
 ],
 "metadata": {
  "kernelspec": {
   "display_name": "Python 3.8.9 64-bit",
   "language": "python",
   "name": "python3"
  },
  "language_info": {
   "codemirror_mode": {
    "name": "ipython",
    "version": 3
   },
   "file_extension": ".py",
   "mimetype": "text/x-python",
   "name": "python",
   "nbconvert_exporter": "python",
   "pygments_lexer": "ipython3",
   "version": "3.8.9"
  },
  "orig_nbformat": 4,
  "vscode": {
   "interpreter": {
    "hash": "31f2aee4e71d21fbe5cf8b01ff0e069b9275f58929596ceb00d14d90e3e16cd6"
   }
  }
 },
 "nbformat": 4,
 "nbformat_minor": 2
}
